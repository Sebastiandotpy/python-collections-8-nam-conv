{
 "cells": [
  {
   "cell_type": "code",
   "execution_count": 2,
   "metadata": {},
   "outputs": [
    {
     "name": "stdout",
     "output_type": "stream",
     "text": [
      "Natural Case:\n",
      " {'Company name': 'Digital Career Institute', 'Street': 'Vulkanstraße', 'House Number': 1, 'City': 'Berlin'}\n",
      "\n",
      "Snake_case:\n",
      " {'company name': 'Digital Career Institute', 'street': 'Vulkanstraße', 'house _number': 1, 'city': 'Berlin'}\n"
     ]
    }
   ],
   "source": [
    "\n",
    "\n",
    "def convert_keys_to_snake_case(natural_case_dict):\n",
    "    \"\"\"\n",
    "    Convert keys in a dictionary from natural case to snake case.\n",
    "    \"\"\"\n",
    "\n",
    "    snake_case_dict = {}  \n",
    "\n",
    "    for natural_key, value in natural_case_dict.items():\n",
    "        snake_key = ''.join(['_' + char.lower() if char.isupper() else char for char in natural_key]).lstrip('_')\n",
    "      #We use a library function that takes an object and transforms its keys into snake case, enabling snake-casing of keys in nested objects and excluding specific keys from snake-casing.\n",
    "\n",
    "        snake_case_dict[snake_key] = value  # Store the snake case key and its corresponding value in the snake_case_dict\n",
    "\n",
    "    return snake_case_dict  \n",
    "\n",
    "\n",
    "natural_case = {\n",
    "    'Company name': 'Digital Career Institute',\n",
    "    'Street': 'Vulkanstraße',\n",
    "    'House Number': 1,\n",
    "    'City': 'Berlin'\n",
    "}\n",
    "\n",
    "snake_case = convert_keys_to_snake_case(natural_case)  \n",
    "print('Natural Case:\\n', natural_case)  \n",
    "print('\\nSnake_case:\\n', snake_case) \n"
   ]
  }
 ],
 "metadata": {
  "kernelspec": {
   "display_name": "Python 3",
   "language": "python",
   "name": "python3"
  },
  "language_info": {
   "codemirror_mode": {
    "name": "ipython",
    "version": 3
   },
   "file_extension": ".py",
   "mimetype": "text/x-python",
   "name": "python",
   "nbconvert_exporter": "python",
   "pygments_lexer": "ipython3",
   "version": "3.11.3"
  },
  "orig_nbformat": 4
 },
 "nbformat": 4,
 "nbformat_minor": 2
}
